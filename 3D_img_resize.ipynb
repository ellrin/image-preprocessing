{
 "cells": [
  {
   "cell_type": "code",
   "execution_count": 1,
   "metadata": {},
   "outputs": [],
   "source": [
    "import nibabel as nib\n",
    "import numpy as np\n",
    "import cv2\n",
    "import os\n",
    "import time"
   ]
  },
  {
   "cell_type": "code",
   "execution_count": 2,
   "metadata": {},
   "outputs": [],
   "source": [
    "dir_path = \"./mri/testing_data/image/\""
   ]
  },
  {
   "cell_type": "code",
   "execution_count": 3,
   "metadata": {},
   "outputs": [
    {
     "data": {
      "text/plain": [
       "(512, 512, 86)"
      ]
     },
     "execution_count": 3,
     "metadata": {},
     "output_type": "execute_result"
    }
   ],
   "source": [
    "nifti_file  = nib.load(dir_path+os.listdir(dir_path)[0])\n",
    "mri_3D_array = nifti_file.get_fdata()\n",
    "mri_3D_array.shape"
   ]
  },
  {
   "cell_type": "markdown",
   "metadata": {},
   "source": [
    "# method 1"
   ]
  },
  {
   "cell_type": "code",
   "execution_count": 4,
   "metadata": {},
   "outputs": [],
   "source": [
    "def resize_mri_wl(img3D, size):\n",
    "    \n",
    "    assert img3D.shape[0] == img3D.shape[1]\n",
    "    \n",
    "    def resize_the_slice(img_slice, size):\n",
    "        return cv2.resize(img_slice, (size, size)).reshape(size,size,1)\n",
    "    \n",
    "    slice_num = img3D.shape[2]\n",
    "    \n",
    "    resize_cube = resize_the_slice(img3D[:,:,0], size)\n",
    "    for img_slice_num in range(slice_num-1):\n",
    "        \n",
    "        img_slice = img3D[:,:,img_slice_num+1]\n",
    "        resize_slice = resize_the_slice(img_slice, size)\n",
    "        resize_cube = np.concatenate((resize_cube, resize_slice), axis=2)\n",
    "        \n",
    "    return resize_cube"
   ]
  },
  {
   "cell_type": "code",
   "execution_count": 5,
   "metadata": {},
   "outputs": [
    {
     "name": "stdout",
     "output_type": "stream",
     "text": [
      "time:\t\t0.456767\n",
      "image shape:   (128, 128, 86) \n"
     ]
    }
   ],
   "source": [
    "start = time.time()\n",
    "test1 = resize_mri_wl(mri_3D_array, 128)\n",
    "past_time = time.time() - start\n",
    "print('time:\\t\\t%f\\nimage shape:   %s '%(past_time, test1.shape))"
   ]
  },
  {
   "cell_type": "markdown",
   "metadata": {},
   "source": [
    "# method 2"
   ]
  },
  {
   "cell_type": "code",
   "execution_count": 6,
   "metadata": {},
   "outputs": [],
   "source": [
    "def resize_mri_wl2(img3D, size):\n",
    "    \n",
    "    assert img3D.shape[0] == img3D.shape[1]\n",
    "    \n",
    "    slice_number = img3D.shape[2]\n",
    "    resize_cube = np.zeros((size, size, slice_number))\n",
    "    \n",
    "    for slice_i_idx in range(slice_number):\n",
    "        \n",
    "        slice_i = img3D[:,:,slice_i_idx]\n",
    "        resize_slice = cv2.resize(slice_i, (size,size), interpolation=cv2.INTER_CUBIC)\n",
    "        resize_cube[:,:,slice_i_idx] = resize_slice\n",
    "        \n",
    "    return resize_cube"
   ]
  },
  {
   "cell_type": "code",
   "execution_count": 7,
   "metadata": {},
   "outputs": [
    {
     "name": "stdout",
     "output_type": "stream",
     "text": [
      "time:\t\t0.170545\n",
      "image shape:   (128, 128, 86) \n"
     ]
    }
   ],
   "source": [
    "start = time.time()\n",
    "test1 = resize_mri_wl2(mri_3D_array, 128)\n",
    "past_time = time.time() - start\n",
    "print('time:\\t\\t%f\\nimage shape:   %s '%(past_time, test1.shape))"
   ]
  }
 ],
 "metadata": {
  "kernelspec": {
   "display_name": "Python 3",
   "language": "python",
   "name": "python3"
  },
  "language_info": {
   "codemirror_mode": {
    "name": "ipython",
    "version": 3
   },
   "file_extension": ".py",
   "mimetype": "text/x-python",
   "name": "python",
   "nbconvert_exporter": "python",
   "pygments_lexer": "ipython3",
   "version": "3.7.3"
  }
 },
 "nbformat": 4,
 "nbformat_minor": 2
}
