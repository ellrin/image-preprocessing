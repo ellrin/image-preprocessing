{
 "cells": [
  {
   "cell_type": "markdown",
   "metadata": {},
   "source": [
    "# Import packages"
   ]
  },
  {
   "cell_type": "code",
   "execution_count": 1,
   "metadata": {},
   "outputs": [],
   "source": [
    "import cv2\n",
    "import numpy as np\n",
    "import matplotlib.pyplot as plt\n",
    "import os, shutil"
   ]
  },
  {
   "cell_type": "markdown",
   "metadata": {},
   "source": [
    "# Enter image input path and image output path"
   ]
  },
  {
   "cell_type": "code",
   "execution_count": 34,
   "metadata": {},
   "outputs": [
    {
     "name": "stdout",
     "output_type": "stream",
     "text": [
      "enter image input path:\n",
      "/home/j1542727/xinPXR/femur_2/\n",
      "enter image output path:\n",
      "/work/j1542727/dataset/xin/femur_aug\n"
     ]
    }
   ],
   "source": [
    "print('enter image input path:')\n",
    "img_path = str(input()) \n",
    "print('enter image output path:')\n",
    "output_path = str(input()) "
   ]
  },
  {
   "cell_type": "code",
   "execution_count": 107,
   "metadata": {},
   "outputs": [],
   "source": [
    "# img_path = '/home/j1542727/xinPXR/femur_2/'\n",
    "# output_path = '/work/j1542727/dataset/xin/femur_aug/'"
   ]
  },
  {
   "cell_type": "markdown",
   "metadata": {},
   "source": [
    "# check if all files are image"
   ]
  },
  {
   "cell_type": "code",
   "execution_count": 108,
   "metadata": {},
   "outputs": [
    {
     "name": "stdout",
     "output_type": "stream",
     "text": [
      "Check if all files are image\n",
      "All files in input folder are images\n"
     ]
    }
   ],
   "source": [
    "print('Check if all files are image')\n",
    "\n",
    "for file in os.listdir(img_path):\n",
    "    if ((file[-3:]) != ('png')) and ((file[-3:]) != ('jpg')):\n",
    "        print(file+' is not an image file')\n",
    "        assert False\n",
    "        \n",
    "    \n",
    "print('All files in input folder are images')"
   ]
  },
  {
   "cell_type": "markdown",
   "metadata": {},
   "source": [
    "# check if the output folder is not empty"
   ]
  },
  {
   "cell_type": "code",
   "execution_count": 55,
   "metadata": {},
   "outputs": [],
   "source": [
    "if os.listdir(output_path)!= []:\n",
    "    print('The output folder is not empty, continue? Type \"yes\" or \"no\"')\n",
    "    \n",
    "    false_count = 0\n",
    "    for i in range(4):\n",
    "        conti_or_not = str(input())\n",
    "    \n",
    "        if conti_or_not == 'yes':\n",
    "            break\n",
    "\n",
    "        if conti_or_not == 'no':\n",
    "            assert False\n",
    "\n",
    "        if (conti_or_not!='yes' and conti_or_not != 'no'):\n",
    "            \n",
    "            false_count += 1\n",
    "            if false_count > 3:\n",
    "                assert False\n",
    "                \n",
    "            print('press \"yes\" or \"no\" %d/3'%false_count)"
   ]
  },
  {
   "cell_type": "markdown",
   "metadata": {},
   "source": [
    "# Define resize and rotate function"
   ]
  },
  {
   "cell_type": "code",
   "execution_count": 151,
   "metadata": {},
   "outputs": [],
   "source": [
    "def img_resize(img, desired_size):\n",
    "    \n",
    "    assert len(img.shape) ==3\n",
    "        \n",
    "    init_size = img.shape[:2]  # arr.shape = (12,24,36), arr.shape[:2] = (12,24)\n",
    "    ratio = float(desired_size) / max(init_size)\n",
    "    new_size = tuple([int(x*ratio) for x in init_size])  # tuple is a python way to save the string\n",
    "    img = cv2.resize(img, (new_size[1], new_size[0]))\n",
    "    \n",
    "    delta_w = desired_size - new_size[1]\n",
    "    delta_h = desired_size - new_size[0]\n",
    "    top, bottom = delta_h//2, delta_h - (delta_h//2)\n",
    "    left, right = delta_w//2, delta_w - (delta_w//2)\n",
    "        \n",
    "    color = [0,0,0]\n",
    "    new_img = cv2.copyMakeBorder(img, top, bottom, left, right, cv2.BORDER_CONSTANT, value=color)\n",
    "    \n",
    "    return new_img\n",
    "\n",
    "\n",
    "\n",
    "def img_rotate(image, angle, center=None, scale=1.0):\n",
    "    \n",
    "    (h, w) = image.shape[:2]\n",
    " \n",
    "    if center is None:\n",
    "        center = (w / 2, h / 2)\n",
    " \n",
    "    M = cv2.getRotationMatrix2D(center, angle, scale)\n",
    "    rotated_img = cv2.warpAffine(image, M, (w, h))\n",
    " \n",
    "    return rotated_img"
   ]
  },
  {
   "cell_type": "markdown",
   "metadata": {},
   "source": [
    "# resize or not"
   ]
  },
  {
   "cell_type": "code",
   "execution_count": 96,
   "metadata": {},
   "outputs": [
    {
     "name": "stdout",
     "output_type": "stream",
     "text": [
      "Resize? Type \"yes\" or \"no\"\n",
      "yes\n",
      "Enter an integer:\n",
      "224\n"
     ]
    }
   ],
   "source": [
    "# resize or not \n",
    "print('Resize? Type \"yes\" or \"no\"')\n",
    "\n",
    "for try_time in range(4):\n",
    "    resize_or_not = str(input())\n",
    "    \n",
    "    if resize_or_not == 'yes':\n",
    "        resize = True\n",
    "        \n",
    "        print('Enter an integer:')\n",
    "        \n",
    "        # check if the input is an integer\n",
    "        for int_try_time in range(4):\n",
    "            resize_size = (input())\n",
    "            \n",
    "            try:\n",
    "                resize_size = int(resize_size)\n",
    "            except:\n",
    "                pass\n",
    "            \n",
    "            if type(resize_size) !='int':\n",
    "                if int_try_time == 3:\n",
    "                    assert False\n",
    "                    print('Enter an integer: %d/3'%(int_try_time+1))\n",
    "        \n",
    "            break\n",
    "        break\n",
    "\n",
    "    if resize_or_not == 'no':\n",
    "        resize = False\n",
    "        break\n",
    "\n",
    "    if (resize_or_not!='yes' and resize_or_not != 'no'):\n",
    "        if try_time == 3:\n",
    "            assert False\n",
    "                \n",
    "        print('press \"yes\" or \"no\" %d/3'%false_count)"
   ]
  },
  {
   "cell_type": "markdown",
   "metadata": {},
   "source": [
    "# rotate or not "
   ]
  },
  {
   "cell_type": "code",
   "execution_count": 101,
   "metadata": {},
   "outputs": [
    {
     "name": "stdout",
     "output_type": "stream",
     "text": [
      "Rotate? Type \"yes\" or \"no\"\n",
      "yes\n",
      "Enter an integer:\n",
      "300\n"
     ]
    }
   ],
   "source": [
    "print('Rotate? Type \"yes\" or \"no\"')\n",
    "\n",
    "for try_time in range(4):\n",
    "    rotate_or_not = str(input())\n",
    "    \n",
    "    if rotate_or_not == 'yes':\n",
    "        rotate = True\n",
    "        \n",
    "        print('Enter an integer:')\n",
    "        \n",
    "        # check if the input is an integer\n",
    "        for int_try_time in range(4):\n",
    "            rotate_angle = (input())\n",
    "            \n",
    "            try:\n",
    "                rotate_angle = int(rotate_angle)\n",
    "            except:\n",
    "                pass\n",
    "            \n",
    "            if type(rotate_angle) !='int':\n",
    "                if int_try_time == 3:\n",
    "                    assert False\n",
    "                    print('Enter an integer: %d/3'%(int_try_time+1))\n",
    "        \n",
    "            break\n",
    "        break\n",
    "\n",
    "    if rotate_or_not == 'no':\n",
    "        rotate = False\n",
    "        break\n",
    "\n",
    "    if (rotate_or_not!='yes' and rotate_or_not != 'no'):\n",
    "        if try_time == 3:\n",
    "            assert False\n",
    "                \n",
    "        print('press \"yes\" or \"no\" %d/3'%(try_time+1))"
   ]
  },
  {
   "cell_type": "markdown",
   "metadata": {},
   "source": [
    "# flip or not"
   ]
  },
  {
   "cell_type": "code",
   "execution_count": 112,
   "metadata": {},
   "outputs": [
    {
     "name": "stdout",
     "output_type": "stream",
     "text": [
      "Flip? Type \"yes\" or \"no\"\n",
      "yes\n"
     ]
    }
   ],
   "source": [
    "print('Flip? Type \"yes\" or \"no\"')\n",
    "false_count = 0\n",
    "for try_time in range(4):\n",
    "    flip_or_not = str(input())\n",
    "    \n",
    "    if flip_or_not == 'yes':\n",
    "        flip = True\n",
    "        break\n",
    "\n",
    "    if flip_or_not == 'no':\n",
    "        flip = False\n",
    "        break\n",
    "\n",
    "    if (flip_or_not != 'yes' and flip_or_not != 'no'):\n",
    "        if try_time == 3:\n",
    "            assert False\n",
    "                \n",
    "        print('press \"yes\" or \"no\" %d/3'%(try_time+1))"
   ]
  },
  {
   "cell_type": "markdown",
   "metadata": {},
   "source": [
    "# START "
   ]
  },
  {
   "cell_type": "code",
   "execution_count": 124,
   "metadata": {},
   "outputs": [
    {
     "name": "stdout",
     "output_type": "stream",
     "text": [
      "   1 femur_2\n",
      "   2 .ipynb_checkpoints\n"
     ]
    }
   ],
   "source": [
    "for idx, file in enumerate(os.listdir(img_path)):\n",
    "    \n",
    "    img = cv2.imread(img_path+file)\n",
    "    img_name = file[:-4]\n",
    "    \n",
    "    ### resize\n",
    "    if resize:\n",
    "        img = img_resize(img, resize_size)\n",
    "        img_name = img_name+'_resize'\n",
    "    \n",
    "    ### flip\n",
    "    if flip:\n",
    "        img = cv2.flip(img, 1)\n",
    "        img_name = img_name+'_flip'\n",
    "    \n",
    "    \n",
    "    \n",
    "    ### rotate\n",
    "    if rotate:\n",
    "        img_rotate(img, rotate_angle)\n",
    "        img_name = img_name+'_rotate%d'%rotate_angle\n",
    "    \n",
    "    \n",
    "    cv2.imwrite((output_path+img_name+'.png'), img)\n",
    "    print('%4d '%(idx+1), (img_name+'.png \\t saved'))"
   ]
  },
  {
   "cell_type": "code",
   "execution_count": 142,
   "metadata": {},
   "outputs": [
    {
     "data": {
      "text/plain": [
       "'PXR-0150258_2779.png'"
      ]
     },
     "execution_count": 142,
     "metadata": {},
     "output_type": "execute_result"
    }
   ],
   "source": [
    "file"
   ]
  },
  {
   "cell_type": "code",
   "execution_count": 143,
   "metadata": {},
   "outputs": [],
   "source": [
    "img = cv2.imread(img_path+file)"
   ]
  },
  {
   "cell_type": "code",
   "execution_count": 144,
   "metadata": {},
   "outputs": [
    {
     "data": {
      "text/plain": [
       "(372, 372, 3)"
      ]
     },
     "execution_count": 144,
     "metadata": {},
     "output_type": "execute_result"
    }
   ],
   "source": [
    "img.shape"
   ]
  },
  {
   "cell_type": "code",
   "execution_count": 148,
   "metadata": {},
   "outputs": [
    {
     "data": {
      "text/plain": [
       "3"
      ]
     },
     "execution_count": 148,
     "metadata": {},
     "output_type": "execute_result"
    }
   ],
   "source": [
    "len(img.shape)"
   ]
  },
  {
   "cell_type": "code",
   "execution_count": 150,
   "metadata": {},
   "outputs": [],
   "source": [
    "assert len(img.shape) ==3"
   ]
  },
  {
   "cell_type": "code",
   "execution_count": null,
   "metadata": {},
   "outputs": [],
   "source": []
  }
 ],
 "metadata": {
  "kernelspec": {
   "display_name": "Python 3",
   "language": "python",
   "name": "python3"
  },
  "language_info": {
   "codemirror_mode": {
    "name": "ipython",
    "version": 3
   },
   "file_extension": ".py",
   "mimetype": "text/x-python",
   "name": "python",
   "nbconvert_exporter": "python",
   "pygments_lexer": "ipython3",
   "version": "3.5.2"
  }
 },
 "nbformat": 4,
 "nbformat_minor": 2
}
